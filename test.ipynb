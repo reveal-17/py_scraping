{
  "nbformat": 4,
  "nbformat_minor": 0,
  "metadata": {
    "colab": {
      "name": "test.ipynb",
      "provenance": [],
      "mount_file_id": "1f8L1aGXNTdJlm6qnj_p37-9BCbsecimJ",
      "authorship_tag": "ABX9TyMrwfgyWoGNEFDnVZOcfphP",
      "include_colab_link": true
    },
    "kernelspec": {
      "name": "python3",
      "display_name": "Python 3"
    },
    "accelerator": "GPU"
  },
  "cells": [
    {
      "cell_type": "markdown",
      "metadata": {
        "id": "view-in-github",
        "colab_type": "text"
      },
      "source": [
        "<a href=\"https://colab.research.google.com/github/reveal-17/py_scraping/blob/master/test.ipynb\" target=\"_parent\"><img src=\"https://colab.research.google.com/assets/colab-badge.svg\" alt=\"Open In Colab\"/></a>"
      ]
    },
    {
      "cell_type": "code",
      "metadata": {
        "id": "IaRQHoW0gVmx",
        "colab_type": "code",
        "colab": {
          "base_uri": "https://localhost:8080/",
          "height": 187
        },
        "outputId": "d813b4b0-0657-4e7f-cd05-a1139599b94f"
      },
      "source": [
        "import requests  \n",
        "from bs4 import BeautifulSoup  \n",
        "import pandas as pd  \n",
        "import time\n",
        "\n",
        "list_df = pd.DataFrame(columns=['歌詞']) \n",
        "\n",
        "base_url = 'https://www.uta-net.com/'  \n",
        "url = 'https://www.uta-net.com/artist/1048/'  \n",
        "response = requests.get(url)  \n",
        "soup = BeautifulSoup(response.text, 'lxml')  \n",
        "links = soup.find_all('td', class_='side td1')  \n",
        "\n",
        "for link in links:  \n",
        "  a = base_url + (link.a.get('href'))  \n",
        "  response = requests.get(a)  \n",
        "  soup = BeautifulSoup(response.text, 'lxml')  \n",
        "  lyrics = soup.find('div', itemprop='lyrics')  \n",
        "  lyric = lyrics.text  \n",
        "  lyric = lyric.replace('\\n','')  \n",
        "  # サーバ負荷防止で１秒待機  \n",
        "  time.sleep(1)  \n",
        "\n",
        "  # 取得した歌詞をDataFrameに追加  \n",
        "  tmp_se = pd.DataFrame([lyric], index=list_df.columns).T  \n",
        "  list_df = list_df.append(tmp_se)  \n",
        "\n",
        "# csv保存  GPUにしないとエラーに\n",
        "list_df.to_csv('list.csv', mode = 'a', encoding='utf-8')  \n",
        "\n",
        "!pip install janome \n",
        "from janome.tokenizer import Tokenizer  \n",
        "\n",
        "df_file = pd.read_csv('list.csv', encoding='utf-8')  \n",
        "lyrics = df_file['歌詞'].tolist()  \n",
        "\n",
        "t = Tokenizer()  \n",
        "results = []  \n",
        "\n",
        "for s in lyrics:  \n",
        "  tokens = t.tokenize(s)  \n",
        "  r = []  \n",
        "\n",
        "  for tok in tokens:  \n",
        "    if tok.base_form == '*':  \n",
        "      word = tok.surface  \n",
        "    else:  \n",
        "      word = tok.base_form  \n",
        "\n",
        "    ps = tok.part_of_speech  \n",
        "    hinshi = ps.split(',')[0]  \n",
        "\n",
        "    if hinshi in ['名詞', '形容詞', '動詞', '副詞']:  \n",
        "      r.append(word)  \n",
        "\n",
        "  rl = (' '.join(r)).strip()\n",
        "  results.append(rl)  \n",
        "  # 余計な文字コードを置き換え  \n",
        "  result = [i.replace('\\u3000', '') for i in results]  \n",
        "\n",
        "text_file = 'wakati_list.txt'  \n",
        "with open(text_file, 'w', encoding='utf-8') as fp:  \n",
        "  fp.write(\"\\n\".join(result))  \n",
        "\n",
        "from wordcloud import WordCloud  \n",
        "\n",
        "text_file = open('wakati_list.txt', encoding='utf-8')  \n",
        "text = text_file.read()  \n",
        "\n",
        "# 日本語フォント指定  \n",
        "!apt-get -y install fonts-ipafont-gothic\n",
        "fpath = '/usr/share/fonts/truetype/fonts-japanese-gothic.ttf'\n",
        "\n",
        "#無意味そうな単語除去  \n",
        "stop_words = ['そう', 'ない', 'いる', 'する', 'まま', 'よう', 'てる', 'なる', 'こと', 'もう', 'いい', 'ある', 'ゆく', 'れる']  \n",
        "\n",
        "wordcloud = WordCloud(background_color='white', colormap='autumn', font_path=fpath, width=800, height=600, stopwords=set(stop_words)).generate(text)  \n",
        "\n",
        "wordcloud.to_file('./wordcloud.png')  "
      ],
      "execution_count": 5,
      "outputs": [
        {
          "output_type": "stream",
          "text": [
            "Requirement already satisfied: janome in /usr/local/lib/python3.6/dist-packages (0.4.0)\n",
            "Reading package lists... Done\n",
            "Building dependency tree       \n",
            "Reading state information... Done\n",
            "fonts-ipafont-gothic is already the newest version (00303-18ubuntu1).\n",
            "The following package was automatically installed and is no longer required:\n",
            "  libnvidia-common-440\n",
            "Use 'apt autoremove' to remove it.\n",
            "0 upgraded, 0 newly installed, 0 to remove and 35 not upgraded.\n"
          ],
          "name": "stdout"
        },
        {
          "output_type": "execute_result",
          "data": {
            "text/plain": [
              "<wordcloud.wordcloud.WordCloud at 0x7fbece457cc0>"
            ]
          },
          "metadata": {
            "tags": []
          },
          "execution_count": 5
        }
      ]
    },
    {
      "cell_type": "code",
      "metadata": {
        "id": "2jmAjNWlVzly",
        "colab_type": "code",
        "colab": {
          "base_uri": "https://localhost:8080/",
          "height": 134
        },
        "outputId": "32a3699c-c5b5-4c7a-84a6-626ad2b4d513"
      },
      "source": [
        ""
      ],
      "execution_count": 1,
      "outputs": [
        {
          "output_type": "error",
          "ename": "SyntaxError",
          "evalue": "ignored",
          "traceback": [
            "\u001b[0;36m  File \u001b[0;32m\"<ipython-input-1-b4d5e18c7195>\"\u001b[0;36m, line \u001b[0;32m1\u001b[0m\n\u001b[0;31m    echo \"# py_scraping\" >> README.md\u001b[0m\n\u001b[0m                       ^\u001b[0m\n\u001b[0;31mSyntaxError\u001b[0m\u001b[0;31m:\u001b[0m invalid syntax\n"
          ]
        }
      ]
    }
  ]
}